{
  "cells": [
    {
      "cell_type": "code",
      "execution_count": null,
      "metadata": {
        "colab": {
          "base_uri": "https://localhost:8080/"
        },
        "id": "EuO-gB1VVR-T",
        "outputId": "1bd9e9d7-e893-44e2-ef48-f8fbf197439a"
      },
      "outputs": [],
      "source": [
        "import os\n",
        "from os.path import exists, join, basename, splitext\n",
        "\n",
        "git_repo_url = 'https://github.com/CMU-Perceptual-Computing-Lab/openpose.git'\n",
        "project_name = splitext(basename(git_repo_url))[0]\n",
        "if not exists(project_name):\n",
        "  # install new CMake becaue of CUDA10\n",
        "  !wget -q https://cmake.org/files/v3.13/cmake-3.13.0-Linux-x86_64.tar.gz\n",
        "  !tar xfz cmake-3.13.0-Linux-x86_64.tar.gz --strip-components=1 -C /usr/local\n",
        "  # clone openpose\n",
        "  !git clone -q --depth 1 $git_repo_url\n",
        "  !sed -i 's/execute_process(COMMAND git checkout master WORKING_DIRECTORY ${CMAKE_SOURCE_DIR}\\/3rdparty\\/caffe)/execute_process(COMMAND git checkout f019d0dfe86f49d1140961f8c7dec22130c83154 WORKING_DIRECTORY ${CMAKE_SOURCE_DIR}\\/3rdparty\\/caffe)/g' openpose/CMakeLists.txt\n",
        "  # install system dependencies\n",
        "  !apt-get -qq install -y libatlas-base-dev libprotobuf-dev libleveldb-dev libsnappy-dev libhdf5-serial-dev protobuf-compiler libgflags-dev libgoogle-glog-dev liblmdb-dev opencl-headers ocl-icd-opencl-dev libviennacl-dev\n",
        "  # install python dependencies\n",
        "  !pip install -q youtube-dl\n",
        "  # build openpose\n",
        "  !cd openpose && rm -rf build || true && mkdir build && cd build && cmake -DBUILD_PYTHON=ON .. && make -j`nproc`\n",
        "!mkdir openpose/images openpose/videos "
      ]
    },
    {
      "cell_type": "code",
      "execution_count": null,
      "metadata": {
        "colab": {
          "base_uri": "https://localhost:8080/"
        },
        "id": "D24Onok4EcgW",
        "outputId": "dc09269a-1437-4258-ab62-32a3f12548c5"
      },
      "outputs": [],
      "source": [
        "!pip install --upgrade --no-cache-dir gdown"
      ]
    },
    {
      "cell_type": "code",
      "execution_count": null,
      "metadata": {
        "colab": {
          "base_uri": "https://localhost:8080/"
        },
        "id": "KbSMLwSINYIa",
        "outputId": "78003af4-4af8-4167-86b0-4fa55592cbe7"
      },
      "outputs": [],
      "source": [
        "!pip install flask-ngrok\n",
        "!curl -s https://ngrok-agent.s3.amazonaws.com/ngrok.asc | sudo tee /etc/apt/trusted.gpg.d/ngrok.asc >/dev/null && echo \"deb https://ngrok-agent.s3.amazonaws.com buster main\" | sudo tee /etc/apt/sources.list.d/ngrok.list && sudo apt update && sudo apt install ngrok   \n",
        "!ngrok authtoken 2dImHhaTg9J3RZfuUNCW3giuAX0_4A1zTJPk4QVfw1y9ZjJPV"
      ]
    },
    {
      "cell_type": "code",
      "execution_count": null,
      "metadata": {
        "colab": {
          "base_uri": "https://localhost:8080/"
        },
        "id": "kx3iF730yUNS",
        "outputId": "a841a3af-f1d2-4e86-850f-59776249cfad"
      },
      "outputs": [],
      "source": [
        "%cd /content/\n",
        "!rm -rf clothes-virtual-try-on\n",
        "!git clone https://github.com/practice404/clothes-virtual-try-on.git\n",
        "os.makedirs(\"/content/clothes-virtual-try-on/checkpoints\")"
      ]
    },
    {
      "cell_type": "code",
      "execution_count": null,
      "metadata": {
        "colab": {
          "base_uri": "https://localhost:8080/"
        },
        "id": "sCeojIlesWll",
        "outputId": "c5374bb7-a627-4b61-caea-006e561e9760"
      },
      "outputs": [],
      "source": [
        "!gdown --id 18q4lS7cNt1_X8ewCgya1fq0dSk93jTL6 --output /content/clothes-virtual-try-on/checkpoints/alias_final.pth\n",
        "!gdown --id 1uDRPY8gh9sHb3UDonq6ZrINqDOd7pmTz --output /content/clothes-virtual-try-on/checkpoints/gmm_final.pth\n",
        "!gdown --id 1d7lZNLh51Qt5Mi1lXqyi6Asb2ncLrEdC --output /content/clothes-virtual-try-on/checkpoints/seg_final.pth"
      ]
    },
    {
      "cell_type": "code",
      "execution_count": null,
      "metadata": {
        "colab": {
          "base_uri": "https://localhost:8080/"
        },
        "id": "bxH7Dkr5BiDo",
        "outputId": "02eecf0d-13e0-4368-d169-1fc6fa4f0345"
      },
      "outputs": [],
      "source": [
        "!gdown --id 1ysEoAJNxou7RNuT9iKOxRhjVRNY5RLjx --output /content/clothes-virtual-try-on/cloth_segm_u2net_latest.pth --no-cookies"
      ]
    },
    {
      "cell_type": "code",
      "execution_count": null,
      "metadata": {
        "colab": {
          "base_uri": "https://localhost:8080/"
        },
        "id": "88wFOAQaNxmj",
        "outputId": "3d39f5f9-8824-459a-9342-eecf7d18594b"
      },
      "outputs": [],
      "source": [
        "%cd /content/\n",
        "!pip install ninja"
      ]
    },
    {
      "cell_type": "code",
      "execution_count": null,
      "metadata": {
        "colab": {
          "base_uri": "https://localhost:8080/"
        },
        "id": "FROviTWpQtz3",
        "outputId": "de58a78a-f7ed-47fe-e60f-343ac6fd11b8"
      },
      "outputs": [],
      "source": [
        "!git clone https://github.com/PeikeLi/Self-Correction-Human-Parsing\n",
        "%cd Self-Correction-Human-Parsing\n",
        "!mkdir checkpoints"
      ]
    },
    {
      "cell_type": "code",
      "execution_count": null,
      "metadata": {
        "colab": {
          "base_uri": "https://localhost:8080/"
        },
        "id": "1ACSEk75CsYN",
        "outputId": "1cf885bc-ee50-4de2-b14b-8a1e8053faa7"
      },
      "outputs": [],
      "source": [
        "# downloading LIP dataset model\n",
        "!gdown --id 1k4dllHpu0bdx38J7H28rVVLpU-kOHmnH\n",
        "!mv /content/Self-Correction-Human-Parsing/exp-schp-201908261155-lip.pth /content/Self-Correction-Human-Parsing/checkpoints/final.pth"
      ]
    },
    {
      "cell_type": "code",
      "execution_count": null,
      "metadata": {
        "colab": {
          "base_uri": "https://localhost:8080/"
        },
        "id": "nn4FzNs6KfaP",
        "outputId": "008f6373-df5d-4b0e-aacc-86e95bdda4ee"
      },
      "outputs": [],
      "source": [
        "%cd /content/"
      ]
    },
    {
      "cell_type": "code",
      "execution_count": null,
      "metadata": {
        "colab": {
          "base_uri": "https://localhost:8080/"
        },
        "id": "IxHjw7HEblbe",
        "outputId": "c008ca90-c0b7-4f54-bcd4-98d4d71bbe55"
      },
      "outputs": [],
      "source": [
        "%%cmd\n",
        "MINICONDA_INSTALLER_SCRIPT=Miniconda3-4.5.4-Linux-x86_64.sh\n",
        "MINICONDA_PREFIX=/usr/local\n",
        "wget https://repo.continuum.io/miniconda/$MINICONDA_INSTALLER_SCRIPT\n",
        "chmod +x $MINICONDA_INSTALLER_SCRIPT\n",
        "./$MINICONDA_INSTALLER_SCRIPT -b -f -p $MINICONDA_PREFIX\n",
        "conda install --channel defaults conda python=3.8 --yes\n",
        "conda update --channel defaults --all --yes"
      ]
    },
    {
      "cell_type": "code",
      "execution_count": null,
      "metadata": {
        "id": "rwljBQ5zbvgU"
      },
      "outputs": [],
      "source": [
        "import sys\n",
        "_ = (sys.path\n",
        "        .append(\"/usr/local/lib/python3.6/site-packages\"))"
      ]
    },
    {
      "cell_type": "code",
      "execution_count": null,
      "metadata": {
        "colab": {
          "base_uri": "https://localhost:8080/"
        },
        "id": "jETYfnJnby5g",
        "outputId": "422bb90f-f228-408e-f859-8a2c2338cbb6"
      },
      "outputs": [],
      "source": [
        "!conda install --channel conda-forge featuretools --yes"
      ]
    },
    {
      "cell_type": "code",
      "execution_count": null,
      "metadata": {
        "id": "6Em-tqbZb0gH"
      },
      "outputs": [],
      "source": [
        "# !conda install -y pytorch torchvision cudatoolkit -c pytorch"
      ]
    },
    {
      "cell_type": "code",
      "execution_count": null,
      "metadata": {
        "colab": {
          "base_uri": "https://localhost:8080/"
        },
        "id": "jMUiVY5Ib3yk",
        "outputId": "f38bf7d0-3664-4bd1-cc6b-2488116af224"
      },
      "outputs": [],
      "source": [
        "!pip install opencv-python torchgeometry"
      ]
    },
    {
      "cell_type": "code",
      "execution_count": null,
      "metadata": {
        "colab": {
          "base_uri": "https://localhost:8080/"
        },
        "id": "z8yuxicSGwAY",
        "outputId": "7bf79a18-a487-414a-b2c0-59cfefa31ec5"
      },
      "outputs": [],
      "source": [
        "!pip install torchvision"
      ]
    },
    {
      "cell_type": "markdown",
      "metadata": {
        "id": "lxGFL-rYMjW7"
      },
      "source": [
        "# Welcome to Virtual-Cloth-Assistant"
      ]
    },
    {
      "cell_type": "code",
      "execution_count": null,
      "metadata": {
        "id": "eoKus5z2MCY8"
      },
      "outputs": [],
      "source": [
        "def make_dir():\n",
        "  os.system(\"cd /content/ && mkdir inputs && cd inputs && mkdir test && cd test && mkdir cloth cloth-mask image image-parse openpose-img openpose-json\")\n",
        "# make_dir()"
      ]
    },
    {
      "cell_type": "code",
      "execution_count": null,
      "metadata": {
        "id": "cGbmOJJ_Eoxt"
      },
      "outputs": [],
      "source": [
        "from flask import Flask, request, send_file, jsonify\n",
        "from flask_ngrok import run_with_ngrok\n",
        "from PIL import Image\n",
        "import base64\n",
        "import io\n",
        "\n",
        "app = Flask(__name__)\n",
        "run_with_ngrok(app)\n",
        "\n",
        "@app.route(\"/\")\n",
        "def home():\n",
        "  return jsonify(\"hello world\");\n",
        "\n",
        "@app.route(\"/api/transform\", methods=['POST'])\n",
        "def begin():\n",
        "  make_dir()\n",
        "  print(\"data recieved\")\n",
        "  cloth = request.files['cloth']\n",
        "  model = request.files['model']\n",
        "\n",
        "  cloth = Image.open(cloth.stream)\n",
        "  model = Image.open(model.stream)\n",
        "\n",
        "  cloth.save(\"/content/inputs/test/cloth/cloth.jpg\")\n",
        "  model.save(\"/content/inputs/test/image/model.jpg\")\n",
        "\n",
        "  # running script to compute the predictions\n",
        "  os.system(\"python /content/clothes-virtual-try-on/run.py\")\n",
        "\n",
        "  # loading output\n",
        "  op = os.listdir(\"/content/output\")[0]\n",
        "  op = Image.open(f\"/content/output/{op}\")\n",
        "  buffer = io.BytesIO()\n",
        "  op.save(buffer, 'png')\n",
        "  buffer.seek(0)\n",
        "  os.system(\"rm -rf /content/output/\")\n",
        "  return send_file(buffer, mimetype='image/gif')\n"
      ]
    },
    {
      "cell_type": "code",
      "execution_count": 8,
      "metadata": {
        "colab": {
          "base_uri": "https://localhost:8080/"
        },
        "id": "5ugzULAbE04M",
        "outputId": "01a37722-e024-4e56-ced8-7947ce24bec3"
      },
      "outputs": [
        {
          "name": "stdout",
          "output_type": "stream",
          "text": [
            " * Serving Flask app '__main__'\n",
            " * Debug mode: off\n"
          ]
        },
        {
          "name": "stderr",
          "output_type": "stream",
          "text": [
            "WARNING: This is a development server. Do not use it in a production deployment. Use a production WSGI server instead.\n",
            " * Running on http://127.0.0.1:5000\n",
            "Press CTRL+C to quit\n",
            "Exception in thread Thread-20:\n",
            "Traceback (most recent call last):\n",
            "  File \"c:\\Program Files\\Python312\\Lib\\threading.py\", line 1052, in _bootstrap_inner\n",
            "    self.run()\n",
            "  File \"c:\\Program Files\\Python312\\Lib\\threading.py\", line 1410, in run\n",
            "    self.function(*self.args, **self.kwargs)\n",
            "  File \"C:\\Users\\ASUS\\AppData\\Roaming\\Python\\Python312\\site-packages\\flask_ngrok.py\", line 70, in start_ngrok\n",
            "    ngrok_address = _run_ngrok()\n",
            "                    ^^^^^^^^^^^^\n",
            "  File \"C:\\Users\\ASUS\\AppData\\Roaming\\Python\\Python312\\site-packages\\flask_ngrok.py\", line 38, in _run_ngrok\n",
            "    tunnel_url = j['tunnels'][0]['public_url']  # Do the parsing of the get\n",
            "                 ~~~~~~~~~~~~^^^\n",
            "IndexError: list index out of range\n"
          ]
        }
      ],
      "source": [
        "app.run()"
      ]
    },
    {
      "cell_type": "code",
      "execution_count": null,
      "metadata": {
        "id": "oyvXvM9itwSI"
      },
      "outputs": [],
      "source": []
    }
  ],
  "metadata": {
    "accelerator": "GPU",
    "colab": {
      "collapsed_sections": [
        "SjH6qffxMYFB"
      ],
      "provenance": []
    },
    "kernelspec": {
      "display_name": "Python 3",
      "name": "python3"
    },
    "language_info": {
      "codemirror_mode": {
        "name": "ipython",
        "version": 3
      },
      "file_extension": ".py",
      "mimetype": "text/x-python",
      "name": "python",
      "nbconvert_exporter": "python",
      "pygments_lexer": "ipython3",
      "version": "3.12.0"
    }
  },
  "nbformat": 4,
  "nbformat_minor": 0
}
